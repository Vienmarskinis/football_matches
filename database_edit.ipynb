{
 "cells": [
  {
   "cell_type": "markdown",
   "metadata": {},
   "source": [
    "The downloaded data has some inconsistent data in the height column. The feature is defined as int, but is a float in reality. This has no problem for SQLite, but is a big problem for duckDB. Therefore, we re-create the table with height as a REAL feature.\n"
   ]
  },
  {
   "cell_type": "code",
   "execution_count": 2,
   "metadata": {},
   "outputs": [],
   "source": [
    "import sqlite3\n",
    "\n",
    "conn = sqlite3.connect(\"database.sqlite\")\n",
    "cursor = conn.cursor()\n",
    "\n",
    "cursor.execute(\"\"\"\n",
    "    ALTER TABLE Player RENAME TO temp_table;\n",
    "\"\"\")\n",
    "cursor.execute(\"\"\"\n",
    "    CREATE TABLE Player (id BIGINT, player_api_id BIGINT, player_name VARCHAR, player_fifa_api_id BIGINT, birthday DATE, height REAL, weight BIGINT);\n",
    "\"\"\")\n",
    "cursor.execute(\"\"\"\n",
    "    INSERT INTO Player (id, player_api_id, player_name, player_fifa_api_id, birthday, height, weight) SELECT id, player_api_id, player_name, player_fifa_api_id, birthday, height, weight FROM temp_table;\n",
    "\"\"\")\n",
    "cursor.execute(\"\"\"\n",
    "    DROP TABLE temp_table;\n",
    "\"\"\")\n",
    "conn.commit()\n",
    "conn.close()"
   ]
  }
 ],
 "metadata": {
  "kernelspec": {
   "display_name": "venv",
   "language": "python",
   "name": "python3"
  },
  "language_info": {
   "codemirror_mode": {
    "name": "ipython",
    "version": 3
   },
   "file_extension": ".py",
   "mimetype": "text/x-python",
   "name": "python",
   "nbconvert_exporter": "python",
   "pygments_lexer": "ipython3",
   "version": "3.11.1"
  },
  "orig_nbformat": 4
 },
 "nbformat": 4,
 "nbformat_minor": 2
}
