{
 "cells": [
  {
   "attachments": {},
   "cell_type": "markdown",
   "metadata": {},
   "source": [
    "## Import dependencies\n"
   ]
  },
  {
   "cell_type": "code",
   "execution_count": 1,
   "metadata": {
    "collapsed": false
   },
   "outputs": [],
   "source": [
    "import duckdb\n",
    "import pandas as pd\n",
    "import numpy as np\n",
    "import matplotlib.pyplot as plt\n",
    "import seaborn as sns"
   ]
  },
  {
   "attachments": {},
   "cell_type": "markdown",
   "metadata": {},
   "source": [
    "## Setup database\n"
   ]
  },
  {
   "attachments": {},
   "cell_type": "markdown",
   "metadata": {},
   "source": [
    "----RUN ONCE----\n"
   ]
  },
  {
   "cell_type": "code",
   "execution_count": 2,
   "metadata": {},
   "outputs": [],
   "source": [
    "duckdb.query(\"INSTALL sqlite; LOAD sqlite;\")\n",
    "duckdb.query(\"ATTACH 'database.sqlite' AS my_data (TYPE sqlite);\")"
   ]
  },
  {
   "cell_type": "code",
   "execution_count": 3,
   "metadata": {},
   "outputs": [],
   "source": [
    "duckdb.query(\"CREATE VIEW Country AS SELECT * FROM my_data.Country;\")\n",
    "duckdb.query(\"CREATE VIEW League AS SELECT * FROM my_data.League;\")\n",
    "duckdb.query(\"CREATE VIEW Match AS SELECT * FROM my_data.Match;\")\n",
    "duckdb.query(\"CREATE VIEW Player AS SELECT * FROM my_data.Player;\")\n",
    "duckdb.query(\"CREATE VIEW Player_Attributes AS SELECT * FROM my_data.Player_Attributes;\")\n",
    "duckdb.query(\"CREATE VIEW Team AS SELECT * FROM my_data.Team;\")\n",
    "duckdb.query(\"CREATE VIEW Team_Attributes AS SELECT * FROM my_data.Team_Attributes;\")"
   ]
  },
  {
   "attachments": {},
   "cell_type": "markdown",
   "metadata": {},
   "source": [
    "----RUN ONCE----\n"
   ]
  },
  {
   "attachments": {},
   "cell_type": "markdown",
   "metadata": {},
   "source": [
    "## Explore database\n"
   ]
  },
  {
   "cell_type": "code",
   "execution_count": 4,
   "metadata": {},
   "outputs": [
    {
     "data": {
      "text/plain": [
       "┌───────────────────┬──────────────┐\n",
       "│     view_name     │ column_count │\n",
       "│      varchar      │    int64     │\n",
       "├───────────────────┼──────────────┤\n",
       "│ Country           │            2 │\n",
       "│ League            │            3 │\n",
       "│ Match             │          115 │\n",
       "│ Player            │            7 │\n",
       "│ Player_Attributes │           42 │\n",
       "│ Team              │            5 │\n",
       "│ Team_Attributes   │           25 │\n",
       "└───────────────────┴──────────────┘"
      ]
     },
     "execution_count": 4,
     "metadata": {},
     "output_type": "execute_result"
    }
   ],
   "source": [
    "tables = duckdb.query(\"SELECT view_name FROM duckdb_views;\").to_df()[\"view_name\"]\n",
    "duckdb.query(\"SELECT view_name, column_count FROM duckdb_views;\")"
   ]
  },
  {
   "cell_type": "code",
   "execution_count": 5,
   "metadata": {},
   "outputs": [
    {
     "name": "stdout",
     "output_type": "stream",
     "text": [
      "'Country' table's schema:\n"
     ]
    },
    {
     "data": {
      "text/plain": [
       "┌───────┬─────────┬─────────┬─────────┬────────────┬─────────┐\n",
       "│  cid  │  name   │  type   │ notnull │ dflt_value │   pk    │\n",
       "│ int32 │ varchar │ varchar │ boolean │  varchar   │ boolean │\n",
       "├───────┼─────────┼─────────┼─────────┼────────────┼─────────┤\n",
       "│     0 │ id      │ BIGINT  │ false   │ NULL       │ false   │\n",
       "│     1 │ name    │ VARCHAR │ false   │ NULL       │ false   │\n",
       "└───────┴─────────┴─────────┴─────────┴────────────┴─────────┘"
      ]
     },
     "metadata": {},
     "output_type": "display_data"
    },
    {
     "name": "stdout",
     "output_type": "stream",
     "text": [
      "'League' table's schema:\n"
     ]
    },
    {
     "data": {
      "text/plain": [
       "┌───────┬────────────┬─────────┬─────────┬────────────┬─────────┐\n",
       "│  cid  │    name    │  type   │ notnull │ dflt_value │   pk    │\n",
       "│ int32 │  varchar   │ varchar │ boolean │  varchar   │ boolean │\n",
       "├───────┼────────────┼─────────┼─────────┼────────────┼─────────┤\n",
       "│     0 │ id         │ BIGINT  │ false   │ NULL       │ false   │\n",
       "│     1 │ country_id │ BIGINT  │ false   │ NULL       │ false   │\n",
       "│     2 │ name       │ VARCHAR │ false   │ NULL       │ false   │\n",
       "└───────┴────────────┴─────────┴─────────┴────────────┴─────────┘"
      ]
     },
     "metadata": {},
     "output_type": "display_data"
    },
    {
     "name": "stdout",
     "output_type": "stream",
     "text": [
      "'Match' table's schema:\n"
     ]
    },
    {
     "data": {
      "text/plain": [
       "┌───────┬──────────────────┬─────────┬─────────┬────────────┬─────────┐\n",
       "│  cid  │       name       │  type   │ notnull │ dflt_value │   pk    │\n",
       "│ int32 │     varchar      │ varchar │ boolean │  varchar   │ boolean │\n",
       "├───────┼──────────────────┼─────────┼─────────┼────────────┼─────────┤\n",
       "│     0 │ id               │ BIGINT  │ false   │ NULL       │ false   │\n",
       "│     1 │ country_id       │ BIGINT  │ false   │ NULL       │ false   │\n",
       "│     2 │ league_id        │ BIGINT  │ false   │ NULL       │ false   │\n",
       "│     3 │ season           │ VARCHAR │ false   │ NULL       │ false   │\n",
       "│     4 │ stage            │ BIGINT  │ false   │ NULL       │ false   │\n",
       "│     5 │ date             │ VARCHAR │ false   │ NULL       │ false   │\n",
       "│     6 │ match_api_id     │ BIGINT  │ false   │ NULL       │ false   │\n",
       "│     7 │ home_team_api_id │ BIGINT  │ false   │ NULL       │ false   │\n",
       "│     8 │ away_team_api_id │ BIGINT  │ false   │ NULL       │ false   │\n",
       "│     9 │ home_team_goal   │ BIGINT  │ false   │ NULL       │ false   │\n",
       "│     · │  ·               │   ·     │   ·     │  ·         │   ·     │\n",
       "│     · │  ·               │   ·     │   ·     │  ·         │   ·     │\n",
       "│     · │  ·               │   ·     │   ·     │  ·         │   ·     │\n",
       "│   105 │ SJA              │ DOUBLE  │ false   │ NULL       │ false   │\n",
       "│   106 │ VCH              │ DOUBLE  │ false   │ NULL       │ false   │\n",
       "│   107 │ VCD              │ DOUBLE  │ false   │ NULL       │ false   │\n",
       "│   108 │ VCA              │ DOUBLE  │ false   │ NULL       │ false   │\n",
       "│   109 │ GBH              │ DOUBLE  │ false   │ NULL       │ false   │\n",
       "│   110 │ GBD              │ DOUBLE  │ false   │ NULL       │ false   │\n",
       "│   111 │ GBA              │ DOUBLE  │ false   │ NULL       │ false   │\n",
       "│   112 │ BSH              │ DOUBLE  │ false   │ NULL       │ false   │\n",
       "│   113 │ BSD              │ DOUBLE  │ false   │ NULL       │ false   │\n",
       "│   114 │ BSA              │ DOUBLE  │ false   │ NULL       │ false   │\n",
       "├───────┴──────────────────┴─────────┴─────────┴────────────┴─────────┤\n",
       "│ 115 rows (20 shown)                                       6 columns │\n",
       "└─────────────────────────────────────────────────────────────────────┘"
      ]
     },
     "metadata": {},
     "output_type": "display_data"
    },
    {
     "name": "stdout",
     "output_type": "stream",
     "text": [
      "'Player' table's schema:\n"
     ]
    },
    {
     "data": {
      "text/plain": [
       "┌───────┬────────────────────┬─────────┬─────────┬────────────┬─────────┐\n",
       "│  cid  │        name        │  type   │ notnull │ dflt_value │   pk    │\n",
       "│ int32 │      varchar       │ varchar │ boolean │  varchar   │ boolean │\n",
       "├───────┼────────────────────┼─────────┼─────────┼────────────┼─────────┤\n",
       "│     0 │ id                 │ BIGINT  │ false   │ NULL       │ false   │\n",
       "│     1 │ player_api_id      │ BIGINT  │ false   │ NULL       │ false   │\n",
       "│     2 │ player_name        │ VARCHAR │ false   │ NULL       │ false   │\n",
       "│     3 │ player_fifa_api_id │ BIGINT  │ false   │ NULL       │ false   │\n",
       "│     4 │ birthday           │ VARCHAR │ false   │ NULL       │ false   │\n",
       "│     5 │ height             │ BIGINT  │ false   │ NULL       │ false   │\n",
       "│     6 │ weight             │ BIGINT  │ false   │ NULL       │ false   │\n",
       "└───────┴────────────────────┴─────────┴─────────┴────────────┴─────────┘"
      ]
     },
     "metadata": {},
     "output_type": "display_data"
    },
    {
     "name": "stdout",
     "output_type": "stream",
     "text": [
      "'Player_Attributes' table's schema:\n"
     ]
    },
    {
     "data": {
      "text/plain": [
       "┌───────┬─────────────────────┬─────────┬─────────┬────────────┬─────────┐\n",
       "│  cid  │        name         │  type   │ notnull │ dflt_value │   pk    │\n",
       "│ int32 │       varchar       │ varchar │ boolean │  varchar   │ boolean │\n",
       "├───────┼─────────────────────┼─────────┼─────────┼────────────┼─────────┤\n",
       "│     0 │ id                  │ BIGINT  │ false   │ NULL       │ false   │\n",
       "│     1 │ player_fifa_api_id  │ BIGINT  │ false   │ NULL       │ false   │\n",
       "│     2 │ player_api_id       │ BIGINT  │ false   │ NULL       │ false   │\n",
       "│     3 │ date                │ VARCHAR │ false   │ NULL       │ false   │\n",
       "│     4 │ overall_rating      │ BIGINT  │ false   │ NULL       │ false   │\n",
       "│     5 │ potential           │ BIGINT  │ false   │ NULL       │ false   │\n",
       "│     6 │ preferred_foot      │ VARCHAR │ false   │ NULL       │ false   │\n",
       "│     7 │ attacking_work_rate │ VARCHAR │ false   │ NULL       │ false   │\n",
       "│     8 │ defensive_work_rate │ VARCHAR │ false   │ NULL       │ false   │\n",
       "│     9 │ crossing            │ BIGINT  │ false   │ NULL       │ false   │\n",
       "│     · │   ·                 │   ·     │   ·     │  ·         │   ·     │\n",
       "│     · │   ·                 │   ·     │   ·     │  ·         │   ·     │\n",
       "│     · │   ·                 │   ·     │   ·     │  ·         │   ·     │\n",
       "│    32 │ vision              │ BIGINT  │ false   │ NULL       │ false   │\n",
       "│    33 │ penalties           │ BIGINT  │ false   │ NULL       │ false   │\n",
       "│    34 │ marking             │ BIGINT  │ false   │ NULL       │ false   │\n",
       "│    35 │ standing_tackle     │ BIGINT  │ false   │ NULL       │ false   │\n",
       "│    36 │ sliding_tackle      │ BIGINT  │ false   │ NULL       │ false   │\n",
       "│    37 │ gk_diving           │ BIGINT  │ false   │ NULL       │ false   │\n",
       "│    38 │ gk_handling         │ BIGINT  │ false   │ NULL       │ false   │\n",
       "│    39 │ gk_kicking          │ BIGINT  │ false   │ NULL       │ false   │\n",
       "│    40 │ gk_positioning      │ BIGINT  │ false   │ NULL       │ false   │\n",
       "│    41 │ gk_reflexes         │ BIGINT  │ false   │ NULL       │ false   │\n",
       "├───────┴─────────────────────┴─────────┴─────────┴────────────┴─────────┤\n",
       "│ 42 rows (20 shown)                                           6 columns │\n",
       "└────────────────────────────────────────────────────────────────────────┘"
      ]
     },
     "metadata": {},
     "output_type": "display_data"
    },
    {
     "name": "stdout",
     "output_type": "stream",
     "text": [
      "'Team' table's schema:\n"
     ]
    },
    {
     "data": {
      "text/plain": [
       "┌───────┬──────────────────┬─────────┬─────────┬────────────┬─────────┐\n",
       "│  cid  │       name       │  type   │ notnull │ dflt_value │   pk    │\n",
       "│ int32 │     varchar      │ varchar │ boolean │  varchar   │ boolean │\n",
       "├───────┼──────────────────┼─────────┼─────────┼────────────┼─────────┤\n",
       "│     0 │ id               │ BIGINT  │ false   │ NULL       │ false   │\n",
       "│     1 │ team_api_id      │ BIGINT  │ false   │ NULL       │ false   │\n",
       "│     2 │ team_fifa_api_id │ BIGINT  │ false   │ NULL       │ false   │\n",
       "│     3 │ team_long_name   │ VARCHAR │ false   │ NULL       │ false   │\n",
       "│     4 │ team_short_name  │ VARCHAR │ false   │ NULL       │ false   │\n",
       "└───────┴──────────────────┴─────────┴─────────┴────────────┴─────────┘"
      ]
     },
     "metadata": {},
     "output_type": "display_data"
    },
    {
     "name": "stdout",
     "output_type": "stream",
     "text": [
      "'Team_Attributes' table's schema:\n"
     ]
    },
    {
     "data": {
      "text/plain": [
       "┌───────┬────────────────────────────────┬─────────┬─────────┬────────────┬─────────┐\n",
       "│  cid  │              name              │  type   │ notnull │ dflt_value │   pk    │\n",
       "│ int32 │            varchar             │ varchar │ boolean │  varchar   │ boolean │\n",
       "├───────┼────────────────────────────────┼─────────┼─────────┼────────────┼─────────┤\n",
       "│     0 │ id                             │ BIGINT  │ false   │ NULL       │ false   │\n",
       "│     1 │ team_fifa_api_id               │ BIGINT  │ false   │ NULL       │ false   │\n",
       "│     2 │ team_api_id                    │ BIGINT  │ false   │ NULL       │ false   │\n",
       "│     3 │ date                           │ VARCHAR │ false   │ NULL       │ false   │\n",
       "│     4 │ buildUpPlaySpeed               │ BIGINT  │ false   │ NULL       │ false   │\n",
       "│     5 │ buildUpPlaySpeedClass          │ VARCHAR │ false   │ NULL       │ false   │\n",
       "│     6 │ buildUpPlayDribbling           │ BIGINT  │ false   │ NULL       │ false   │\n",
       "│     7 │ buildUpPlayDribblingClass      │ VARCHAR │ false   │ NULL       │ false   │\n",
       "│     8 │ buildUpPlayPassing             │ BIGINT  │ false   │ NULL       │ false   │\n",
       "│     9 │ buildUpPlayPassingClass        │ VARCHAR │ false   │ NULL       │ false   │\n",
       "│     · │           ·                    │   ·     │   ·     │  ·         │   ·     │\n",
       "│     · │           ·                    │   ·     │   ·     │  ·         │   ·     │\n",
       "│     · │           ·                    │   ·     │   ·     │  ·         │   ·     │\n",
       "│    15 │ chanceCreationShooting         │ BIGINT  │ false   │ NULL       │ false   │\n",
       "│    16 │ chanceCreationShootingClass    │ VARCHAR │ false   │ NULL       │ false   │\n",
       "│    17 │ chanceCreationPositioningClass │ VARCHAR │ false   │ NULL       │ false   │\n",
       "│    18 │ defencePressure                │ BIGINT  │ false   │ NULL       │ false   │\n",
       "│    19 │ defencePressureClass           │ VARCHAR │ false   │ NULL       │ false   │\n",
       "│    20 │ defenceAggression              │ BIGINT  │ false   │ NULL       │ false   │\n",
       "│    21 │ defenceAggressionClass         │ VARCHAR │ false   │ NULL       │ false   │\n",
       "│    22 │ defenceTeamWidth               │ BIGINT  │ false   │ NULL       │ false   │\n",
       "│    23 │ defenceTeamWidthClass          │ VARCHAR │ false   │ NULL       │ false   │\n",
       "│    24 │ defenceDefenderLineClass       │ VARCHAR │ false   │ NULL       │ false   │\n",
       "├───────┴────────────────────────────────┴─────────┴─────────┴────────────┴─────────┤\n",
       "│ 25 rows (20 shown)                                                      6 columns │\n",
       "└───────────────────────────────────────────────────────────────────────────────────┘"
      ]
     },
     "metadata": {},
     "output_type": "display_data"
    }
   ],
   "source": [
    "for table in tables:\n",
    "    print(f\"'{table}' table's schema:\")\n",
    "    display(duckdb.query(f\"PRAGMA table_info({table})\"))"
   ]
  },
  {
   "cell_type": "code",
   "execution_count": 6,
   "metadata": {},
   "outputs": [
    {
     "data": {
      "text/plain": [
       "┌───────────────────┬───────────┐\n",
       "│    table_name     │ row_count │\n",
       "│      varchar      │   int64   │\n",
       "├───────────────────┼───────────┤\n",
       "│ Country           │        11 │\n",
       "│ League            │        11 │\n",
       "│ Team              │       299 │\n",
       "│ Team_Attributes   │      1458 │\n",
       "│ Player            │     11060 │\n",
       "│ Player_Attributes │    183978 │\n",
       "│ Match             │     25979 │\n",
       "└───────────────────┴───────────┘"
      ]
     },
     "execution_count": 6,
     "metadata": {},
     "output_type": "execute_result"
    }
   ],
   "source": [
    "duckdb.query(\"\"\"\n",
    "    SELECT 'Country' AS table_name, COUNT(1) AS row_count \n",
    "    FROM Country\n",
    "\n",
    "    UNION\n",
    "\n",
    "    SELECT 'League' AS table_name, COUNT(1) AS row_count \n",
    "    FROM League\n",
    "\n",
    "    UNION\n",
    "\n",
    "    SELECT 'Team' AS table_name, COUNT(1) AS row_count \n",
    "    FROM Team\n",
    "\n",
    "    UNION\n",
    "    \n",
    "    SELECT 'Team_Attributes' AS table_name, COUNT(1) AS row_count \n",
    "    FROM Team_Attributes\n",
    "\n",
    "    UNION\n",
    "    \n",
    "    SELECT 'Player' AS table_name, COUNT(1) AS row_count \n",
    "    FROM Player\n",
    "    \n",
    "    UNION\n",
    "    \n",
    "    SELECT 'Player_Attributes' AS table_name, COUNT(1) AS row_count \n",
    "    FROM Player_Attributes\n",
    "\n",
    "    UNION\n",
    "    \n",
    "    SELECT 'Match' AS table_name, COUNT(1) AS row_count \n",
    "    FROM Match\n",
    "    \"\"\")"
   ]
  },
  {
   "attachments": {},
   "cell_type": "markdown",
   "metadata": {},
   "source": [
    "## Feature engineering and clean-up\n"
   ]
  },
  {
   "cell_type": "code",
   "execution_count": 7,
   "metadata": {},
   "outputs": [
    {
     "data": {
      "text/plain": [
       "┌───────┬─────────────┐\n",
       "│  id   │    name     │\n",
       "│ int64 │   varchar   │\n",
       "├───────┼─────────────┤\n",
       "│     1 │ Belgium     │\n",
       "│  1729 │ England     │\n",
       "│  4769 │ France      │\n",
       "│  7809 │ Germany     │\n",
       "│ 10257 │ Italy       │\n",
       "│ 13274 │ Netherlands │\n",
       "│ 15722 │ Poland      │\n",
       "│ 17642 │ Portugal    │\n",
       "│ 19694 │ Scotland    │\n",
       "│ 21518 │ Spain       │\n",
       "│ 24558 │ Switzerland │\n",
       "├───────┴─────────────┤\n",
       "│ 11 rows   2 columns │\n",
       "└─────────────────────┘"
      ]
     },
     "execution_count": 7,
     "metadata": {},
     "output_type": "execute_result"
    }
   ],
   "source": [
    "duckdb.query(\"SELECT * FROM Country\")"
   ]
  },
  {
   "cell_type": "code",
   "execution_count": 8,
   "metadata": {},
   "outputs": [
    {
     "data": {
      "text/plain": [
       "┌───────┬────────────┬──────────────────────────┐\n",
       "│  id   │ country_id │           name           │\n",
       "│ int64 │   int64    │         varchar          │\n",
       "├───────┼────────────┼──────────────────────────┤\n",
       "│     1 │          1 │ Belgium Jupiler League   │\n",
       "│  1729 │       1729 │ England Premier League   │\n",
       "│  4769 │       4769 │ France Ligue 1           │\n",
       "│  7809 │       7809 │ Germany 1. Bundesliga    │\n",
       "│ 10257 │      10257 │ Italy Serie A            │\n",
       "│ 13274 │      13274 │ Netherlands Eredivisie   │\n",
       "│ 15722 │      15722 │ Poland Ekstraklasa       │\n",
       "│ 17642 │      17642 │ Portugal Liga ZON Sagres │\n",
       "│ 19694 │      19694 │ Scotland Premier League  │\n",
       "│ 21518 │      21518 │ Spain LIGA BBVA          │\n",
       "│ 24558 │      24558 │ Switzerland Super League │\n",
       "├───────┴────────────┴──────────────────────────┤\n",
       "│ 11 rows                             3 columns │\n",
       "└───────────────────────────────────────────────┘"
      ]
     },
     "execution_count": 8,
     "metadata": {},
     "output_type": "execute_result"
    }
   ],
   "source": [
    "duckdb.query(\"SELECT * FROM League\")"
   ]
  },
  {
   "attachments": {},
   "cell_type": "markdown",
   "metadata": {},
   "source": [
    "Let's check if there's any null values.\n"
   ]
  },
  {
   "cell_type": "code",
   "execution_count": 9,
   "metadata": {},
   "outputs": [],
   "source": [
    "def get_columns_from_duckdb_table(table: str):\n",
    "    return duckdb.query(f\"\"\"\n",
    "            SELECT *\n",
    "            FROM {table}\n",
    "            LIMIT 1\n",
    "            \"\"\").to_df().columns"
   ]
  },
  {
   "cell_type": "code",
   "execution_count": 10,
   "metadata": {},
   "outputs": [],
   "source": [
    "# RUN ONCE\n",
    "duckdb.query(\"\"\"\n",
    "    CREATE MACRO COUNT_NULL(a) AS\n",
    "    SUM(CASE WHEN a IS NULL THEN 1 ELSE 0 END);\n",
    "    \"\"\")"
   ]
  },
  {
   "cell_type": "code",
   "execution_count": 11,
   "metadata": {},
   "outputs": [],
   "source": [
    "# for table in tables:\n",
    "#     nulls = []\n",
    "#     for column in get_columns_from_duckdb_table(table):\n",
    "#         nulls.append(duckdb.query(f\"\"\"\n",
    "#             SELECT COUNT_NULL(\"{column}\")\n",
    "#             FROM {table}\n",
    "#             \"\"\").to_df().values[0][0])\n",
    "#     print(f\"Total nulls in {table} table: {sum(nulls)}\")"
   ]
  },
  {
   "attachments": {},
   "cell_type": "markdown",
   "metadata": {},
   "source": [
    "### Which leagues are in which countries?\n"
   ]
  },
  {
   "cell_type": "code",
   "execution_count": 12,
   "metadata": {},
   "outputs": [
    {
     "data": {
      "text/plain": [
       "┌──────────────────────────┬─────────────┐\n",
       "│          league          │   country   │\n",
       "│         varchar          │   varchar   │\n",
       "├──────────────────────────┼─────────────┤\n",
       "│ Belgium Jupiler League   │ Belgium     │\n",
       "│ England Premier League   │ England     │\n",
       "│ France Ligue 1           │ France      │\n",
       "│ Germany 1. Bundesliga    │ Germany     │\n",
       "│ Italy Serie A            │ Italy       │\n",
       "│ Netherlands Eredivisie   │ Netherlands │\n",
       "│ Poland Ekstraklasa       │ Poland      │\n",
       "│ Portugal Liga ZON Sagres │ Portugal    │\n",
       "│ Scotland Premier League  │ Scotland    │\n",
       "│ Spain LIGA BBVA          │ Spain       │\n",
       "│ Switzerland Super League │ Switzerland │\n",
       "├──────────────────────────┴─────────────┤\n",
       "│ 11 rows                      2 columns │\n",
       "└────────────────────────────────────────┘"
      ]
     },
     "execution_count": 12,
     "metadata": {},
     "output_type": "execute_result"
    }
   ],
   "source": [
    "duckdb.query(\"\"\"\n",
    "    SELECT l.name league, c.name country\n",
    "    FROM League l\n",
    "    INNER JOIN Country c\n",
    "    ON l.country_id = c.id\n",
    "\"\"\")"
   ]
  },
  {
   "attachments": {},
   "cell_type": "markdown",
   "metadata": {},
   "source": [
    "### Which leagues score the most/fewest goals?\n"
   ]
  },
  {
   "cell_type": "code",
   "execution_count": 13,
   "metadata": {},
   "outputs": [],
   "source": [
    "from functions import *"
   ]
  },
  {
   "cell_type": "code",
   "execution_count": 14,
   "metadata": {},
   "outputs": [
    {
     "data": {
      "image/png": "[encoded data removed]",
      "text/plain": [
       "<Figure size 640x480 with 1 Axes>"
      ]
     },
     "metadata": {},
     "output_type": "display_data"
    }
   ],
   "source": [
    "league_goals = duckdb.query(\"\"\"\n",
    "    SELECT L.name League, SUM(m.home_team_goal+m.away_team_goal) goals, COUNT(*) matches, ROUND(goals/matches,2) \"Goals per match\"\n",
    "    FROM League L\n",
    "    INNER JOIN Match m\n",
    "    ON L.id = m.league_id\n",
    "    GROUP BY L.name\n",
    "    ORDER BY \"Goals per match\" DESC\n",
    "\"\"\").to_df()\n",
    "\n",
    "sns.barplot(data=league_goals, x=\"Goals per match\", y=\"League\", color = figure_colors[4])\n",
    "plt.title(\"Leagues that score the most goals\")\n",
    "plt.ylabel(\"\")\n",
    "for container in plt.gca().containers:\n",
    "    plt.gca().bar_label(container)\n",
    "sns.despine()"
   ]
  },
  {
   "attachments": {},
   "cell_type": "markdown",
   "metadata": {},
   "source": [
    "### Who are the top scorers in each team and league?\n"
   ]
  },
  {
   "cell_type": "code",
   "execution_count": null,
   "metadata": {},
   "outputs": [],
   "source": [
    "duckdb."
   ]
  }
 ],
 "metadata": {
  "kernelspec": {
   "display_name": "Python 3",
   "language": "python",
   "name": "python3"
  },
  "language_info": {
   "codemirror_mode": {
    "name": "ipython",
    "version": 3
   },
   "file_extension": ".py",
   "mimetype": "text/x-python",
   "name": "python",
   "nbconvert_exporter": "python",
   "pygments_lexer": "ipython3",
   "version": "3.11.1"
  }
 },
 "nbformat": 4,
 "nbformat_minor": 0
}
